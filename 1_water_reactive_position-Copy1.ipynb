{
 "cells": [
  {
   "cell_type": "code",
   "execution_count": 1,
   "metadata": {},
   "outputs": [],
   "source": [
    "import numpy as np\n",
    "import matplotlib.pyplot as plt\n",
    "import mdtraj as md\n",
    "import itertools"
   ]
  },
  {
   "cell_type": "markdown",
   "metadata": {},
   "source": [
    "Write the path of the simulation and run just the cell of the simulatino you want to analyze"
   ]
  },
  {
   "cell_type": "code",
   "execution_count": 2,
   "metadata": {},
   "outputs": [],
   "source": [
    "#2_glca_deprot equilibration\n",
    "dir_name = \"/home/oriol/Oriol/GH_A/2_glca_deprot/clas_deprot/\"\n",
    "top_file = dir_name + \"3vo0_deprot.prmtop\"\n",
    "file = dir_name + \"3vo0_deprot_eq.mdcrd\""
   ]
  },
  {
   "cell_type": "code",
   "execution_count": 36,
   "metadata": {},
   "outputs": [],
   "source": [
    "#2_glca_deprot production\n",
    "dir_name = \"/home/oriol/Oriol/GH_A/2_glca_deprot/clas_deprot/\"\n",
    "top_file = dir_name + \"3vo0_deprot.prmtop\"\n",
    "file = dir_name + \"3vo0_deprot_prod.mdcrd\""
   ]
  },
  {
   "cell_type": "code",
   "execution_count": 2,
   "metadata": {},
   "outputs": [],
   "source": [
    "#16_desperate production\n",
    "dir_name = \"/home/oriol/Oriol/GH_A/16_desperate/\"\n",
    "top_file = dir_name + \"3vo0_desp.prmtop\"\n",
    "file = dir_name + \"3vo0_desp_prod.nc\""
   ]
  },
  {
   "cell_type": "code",
   "execution_count": null,
   "metadata": {},
   "outputs": [],
   "source": [
    "#21_E45deprot_19 production 60ns\n",
    "dir_name = \"/home/oriol/Oriol/GH_A/21_E45deprot_19/\"\n",
    "top_file = dir_name + \"3vo0_deprot45.prmtop\"\n",
    "file = dir_name + \"3vo0_deprot45_prod_60ns.nc\""
   ]
  },
  {
   "cell_type": "code",
   "execution_count": 2,
   "metadata": {},
   "outputs": [],
   "source": [
    "#21_E45deprot_19 production\n",
    "dir_name = \"/home/oriol/Oriol/GH_A/21_E45deprot_19/\"\n",
    "top_file = dir_name + \"3vo0_deprot45.prmtop\"\n",
    "file = dir_name + \"prod/3vo0_deprot45_prod.nc\""
   ]
  },
  {
   "cell_type": "code",
   "execution_count": 2,
   "metadata": {},
   "outputs": [],
   "source": [
    "#27_restraint21 production\n",
    "dir_name = \"/home/oriol/Oriol/GH_A/27_restraint21/\"\n",
    "top_file = dir_name + \"3vo0_rest.prmtop\"\n",
    "file = dir_name + \"prod/3vo0_rest_prod.nc\""
   ]
  },
  {
   "cell_type": "markdown",
   "metadata": {},
   "source": [
    "Load the information of the trajectory, not the coordinates"
   ]
  },
  {
   "cell_type": "code",
   "execution_count": 3,
   "metadata": {},
   "outputs": [
    {
     "name": "stdout",
     "output_type": "stream",
     "text": [
      "CPU times: user 708 ms, sys: 20 ms, total: 728 ms\n",
      "Wall time: 1.29 s\n"
     ]
    }
   ],
   "source": [
    "%%time\n",
    "traj = md.formats.NetCDFTrajectoryFile(file)\n",
    "top = md.load_prmtop(top_file)"
   ]
  },
  {
   "cell_type": "code",
   "execution_count": 4,
   "metadata": {},
   "outputs": [
    {
     "name": "stdout",
     "output_type": "stream",
     "text": [
      "Frames= 8209\n"
     ]
    }
   ],
   "source": [
    "print(\"Frames=\",traj.n_frames)"
   ]
  },
  {
   "cell_type": "code",
   "execution_count": 5,
   "metadata": {},
   "outputs": [
    {
     "name": "stdout",
     "output_type": "stream",
     "text": [
      "CPU times: user 104 ms, sys: 0 ns, total: 104 ms\n",
      "Wall time: 101 ms\n"
     ]
    }
   ],
   "source": [
    "%%time\n",
    "acid_base = top.select('resid 155 and sidechain and type O') #0-based index, residue 156 [E173]\n",
    "c_anom = top.select('resname GUG and name C1')               #Anomeric carbon\n",
    "H_wat = top.select('water and type H')                       #Both Hydrogen atoms of each water molecule\n",
    "O_wat = top.select('water and type O')                       #Oxygen atoms of each water molecule"
   ]
  },
  {
   "cell_type": "code",
   "execution_count": 6,
   "metadata": {},
   "outputs": [
    {
     "name": "stdout",
     "output_type": "stream",
     "text": [
      "CPU times: user 32 ms, sys: 4 ms, total: 36 ms\n",
      "Wall time: 34 ms\n"
     ]
    }
   ],
   "source": [
    "%%time\n",
    "pair_array_H = np.array(list(itertools.product(H_wat, acid_base))) #Pairs of all the combinations between H_wat list and acid_base list\n",
    "pair_array_O = np.array(list(itertools.product(O_wat, c_anom)))  \n",
    "\n",
    "pair_array_c_H = np.array(list(itertools.product(H_wat, c_anom))) "
   ]
  },
  {
   "cell_type": "markdown",
   "metadata": {},
   "source": [
    "### To obtain oriented water molecules"
   ]
  },
  {
   "cell_type": "code",
   "execution_count": 25,
   "metadata": {},
   "outputs": [
    {
     "name": "stdout",
     "output_type": "stream",
     "text": [
      "CPU times: user 1min 13s, sys: 840 ms, total: 1min 14s\n",
      "Wall time: 1min 24s\n"
     ]
    }
   ],
   "source": [
    "%%time\n",
    "\n",
    "traj.seek(0, whence=0)\n",
    "O_cutoff = 0.45 #Angstroms\n",
    "H_cutoff = 0.2\n",
    "close_wat = []\n",
    "oriented_wat = []\n",
    "dist_H = np.empty((0,pair_array_H.shape[0]))\n",
    "dist_O = np.empty((0,pair_array_O.shape[0]))\n",
    "dist_c_H = np.empty((0,pair_array_c_H.shape[0]))\n",
    "\n",
    "index_time = np.zeros((4,2))   #max allowed waters\n",
    "residence_count = np.zeros((1,2))\n",
    "max_residence = 0\n",
    "\n",
    "for i in range(traj.n_frames):       #loop frames\n",
    "    index_list=[]\n",
    "    frame = traj.read_as_traj(top,n_frames=1)\n",
    "    dist_H = md.compute_distances(frame, pair_array_H)[0]\n",
    "    dist_O = md.compute_distances(frame, pair_array_O)[0]\n",
    "    dist_c_H = md.compute_distances(frame, pair_array_c_H)[0]    \n",
    "    count = 0\n",
    "    oriented_count = 0\n",
    "    for j in range(dist_O.shape[0]): #loop waters\n",
    "        if dist_O[j]>O_cutoff:\n",
    "            continue\n",
    "        \n",
    "        for k in range(4):           #loop Hydrogens (2*2)\n",
    "            if dist_H[4*j+k]<H_cutoff:\n",
    "                count+=1\n",
    "                break\n",
    "        else:\n",
    "            break\n",
    "        index_list.append(O_wat[j])  \n",
    "    \n",
    "        if dist_c_H[2*j]<dist_O[j] or dist_c_H[2*j+1]<dist_O[j]:\n",
    "            break\n",
    "        oriented_count += 1\n",
    "            \n",
    "        \n",
    "    \n",
    "    \n",
    "    for m in range(index_time.shape[0]):\n",
    "        if index_time[m,0] in index_list:\n",
    "            index_time[m,1] += 1\n",
    "            index_list.remove(index_time[m,0])\n",
    "            if index_time[m,1] > max_residence:\n",
    "                max_residence = index_time[m,1]\n",
    "                max_index_residence = index_time[m,0]\n",
    "        else:\n",
    "            if index_time[m,0] != -1:\n",
    "                residence_count[0,0] += 1\n",
    "                residence_count[0,1] += index_time[m,1]\n",
    "                index_time[m,1] = 0\n",
    "                index_time[m,0] = -1\n",
    "            \n",
    "            \n",
    "    for n in index_list:\n",
    "        p = 0\n",
    "        while index_time[p,0] != -1:\n",
    "            p += 1\n",
    "        index_time[p,0] = n\n",
    "        index_time[p,1] = 1            \n",
    "    \n",
    "    close_wat.append([frame.time[0],count])\n",
    "    oriented_wat.append([frame.time[0],oriented_count,traj.tell()])\n",
    "close_waters=np.asarray(close_wat)\n",
    "oriented_waters=np.asarray(oriented_wat)\n",
    "residence_time = residence_count[0,1]/residence_count[0,0]"
   ]
  },
  {
   "cell_type": "code",
   "execution_count": 26,
   "metadata": {},
   "outputs": [
    {
     "name": "stdout",
     "output_type": "stream",
     "text": [
      "27.0\n",
      "15333.0\n"
     ]
    }
   ],
   "source": [
    "print(max_residence)\n",
    "print(max_index_residence)"
   ]
  },
  {
   "cell_type": "code",
   "execution_count": 27,
   "metadata": {},
   "outputs": [
    {
     "name": "stdout",
     "output_type": "stream",
     "text": [
      "mean residence time = 47.132 ps  \n",
      "maximum residence time = 540.0 ps\n",
      "frame = 20ps\n"
     ]
    }
   ],
   "source": [
    "#print(residence_count)\n",
    "#print(max_index_residence)\n",
    "print(\"mean residence time = {} ps  \".format(round(residence_time*20,3)))\n",
    "print(\"maximum residence time = {} ps\".format(max_residence*20))\n",
    "print(\"frame = 20ps\")"
   ]
  },
  {
   "cell_type": "code",
   "execution_count": 28,
   "metadata": {},
   "outputs": [
    {
     "data": {
      "image/png": "[encoded data removed]",
      "text/plain": [
       "<Figure size 432x288 with 1 Axes>"
      ]
     },
     "metadata": {
      "needs_background": "light"
     },
     "output_type": "display_data"
    }
   ],
   "source": [
    "plt.scatter(oriented_waters[:,2],oriented_waters[:,1], s=0.1)\n",
    "plt.xlabel(\"Frame\")\n",
    "plt.ylabel(\"Water molecules\")\n",
    "plt.title(\"Reactive water molecules on each frame\")\n",
    "#plt.savefig(\"Oriented_waters.png\")\n",
    "plt.show()"
   ]
  },
  {
   "cell_type": "code",
   "execution_count": 29,
   "metadata": {},
   "outputs": [
    {
     "data": {
      "image/png": "[encoded data removed]",
      "text/plain": [
       "<Figure size 432x288 with 1 Axes>"
      ]
     },
     "metadata": {
      "needs_background": "light"
     },
     "output_type": "display_data"
    }
   ],
   "source": [
    "plt.scatter(close_waters[:,0]/1000,close_waters[:,1], s=0.001)\n",
    "plt.xlabel(\"Time [ns]\")\n",
    "plt.ylabel(\"Water molecules\")\n",
    "plt.title(\"Close water molecules on each frame\")\n",
    "#plt.savefig(\"Close_waters.png\")\n",
    "plt.show()"
   ]
  },
  {
   "cell_type": "code",
   "execution_count": 30,
   "metadata": {},
   "outputs": [
    {
     "name": "stdout",
     "output_type": "stream",
     "text": [
      "Mean of close water molecules over time = 0.6375928858569863\n"
     ]
    }
   ],
   "source": [
    "#Mean of close water molecules over time\n",
    "mean_wat = np.sum(close_waters[:,1])/close_waters[:,1].shape[0]\n",
    "print(\"Mean of close water molecules over time =\", mean_wat)"
   ]
  },
  {
   "cell_type": "code",
   "execution_count": 31,
   "metadata": {},
   "outputs": [],
   "source": [
    "mean_list = []\n",
    "bin_size = 200\n",
    "bin_size_2 = bin_size/2\n",
    "for i in range(close_waters[:,1].shape[0] - bin_size):\n",
    "    mean_list.append(np.sum(close_waters[i:bin_size+i,1])/bin_size)"
   ]
  },
  {
   "cell_type": "code",
   "execution_count": 32,
   "metadata": {},
   "outputs": [
    {
     "data": {
      "image/png": "[encoded data removed]",
      "text/plain": [
       "<Figure size 432x288 with 1 Axes>"
      ]
     },
     "metadata": {
      "needs_background": "light"
     },
     "output_type": "display_data"
    }
   ],
   "source": [
    "plt.scatter(close_waters[int(bin_size/2):-int(bin_size/2),0]/1000,mean_list, s=0.2)\n",
    "plt.ylim(0,1.75)\n",
    "plt.xlabel(\"Time [ns]\")\n",
    "plt.ylabel(\"Water molecules\")\n",
    "plt.title(\"Mean of close water molecules every {} frames\".format(bin_size))\n",
    "#plt.savefig(\"Mean_close_waters.png\")\n",
    "plt.show()"
   ]
  },
  {
   "cell_type": "code",
   "execution_count": 15,
   "metadata": {},
   "outputs": [
    {
     "data": {
      "text/plain": [
       "553"
      ]
     },
     "execution_count": 15,
     "metadata": {},
     "output_type": "execute_result"
    }
   ],
   "source": [
    "4+54+218+277"
   ]
  },
  {
   "cell_type": "code",
   "execution_count": null,
   "metadata": {},
   "outputs": [],
   "source": []
  },
  {
   "cell_type": "code",
   "execution_count": null,
   "metadata": {},
   "outputs": [],
   "source": []
  },
  {
   "cell_type": "code",
   "execution_count": null,
   "metadata": {},
   "outputs": [],
   "source": []
  },
  {
   "cell_type": "code",
   "execution_count": null,
   "metadata": {},
   "outputs": [],
   "source": []
  },
  {
   "cell_type": "code",
   "execution_count": null,
   "metadata": {},
   "outputs": [],
   "source": []
  },
  {
   "cell_type": "markdown",
   "metadata": {},
   "source": [
    "This doesn't calculate the oriented molecules, it's a bit faster"
   ]
  },
  {
   "cell_type": "code",
   "execution_count": null,
   "metadata": {},
   "outputs": [],
   "source": [
    "%%time\n",
    "\n",
    "traj.seek(0, whence=0) #Go to the first frame\n",
    "O_cutoff = 0.4 #Angstroms\n",
    "H_cutoff = 0.2\n",
    "close_wat = []\n",
    "dist_H = np.empty((0,pair_array_H.shape[0]))\n",
    "dist_O = np.empty((0,pair_array_O.shape[0]))\n",
    "\n",
    "index_time = np.zeros((4,2))   #max allowed waters\n",
    "residence_count = np.zeros((1,2))\n",
    "max_residence = 0\n",
    "\n",
    "for i in range(traj.n_frames):       #loop frames\n",
    "    index_list=[]\n",
    "    frame = traj.read_as_traj(top,n_frames=1)  #Load coordinates of current frame\n",
    "    dist_H = md.compute_distances(frame, pair_array_H)[0]\n",
    "    dist_O = md.compute_distances(frame, pair_array_O)[0]\n",
    "    \n",
    "    count = 0\n",
    "    for j in range(dist_O.shape[0]): #loop waters\n",
    "        if dist_O[j]>O_cutoff:\n",
    "            continue\n",
    "        for k in range(4):           #loop Hydrogens\n",
    "            if dist_H[4*j+k]<H_cutoff:\n",
    "                count+=1                  \n",
    "                break\n",
    "        else:      \n",
    "            break      #If there is no close water, jump to the new frame\n",
    "        index_list.append(O_wat[j])  #Write down in a list the oxygen index that is \n",
    "    \n",
    "    #To calculate the residence time\n",
    "    for m in range(index_time.shape[0]):\n",
    "        if index_time[m,0] in index_list:        #Select the \n",
    "            index_time[m,1] += 1\n",
    "            index_list.remove(index_time[m,0])\n",
    "            if index_time[m,1] > max_residence:\n",
    "                max_residence = index_time[m,1]\n",
    "                max_index_residence = index_time[m,0]\n",
    "        else:\n",
    "            if index_time[m,0] != -1:\n",
    "                residence_count[0,0] += 1\n",
    "                residence_count[0,1] += index_time[m,1]\n",
    "                index_time[m,1] = 0\n",
    "                index_time[m,0] = -1\n",
    "            \n",
    "            \n",
    "    for n in index_list:\n",
    "        p = 0\n",
    "        while index_time[p,0] != -1:\n",
    "            p += 1\n",
    "        index_time[p,0] = n\n",
    "        index_time[p,1] = 1            \n",
    "    \n",
    "    close_wat.append([frame.time[0],count])\n",
    "close_waters=np.asarray(close_wat)\n",
    "residence_time = residence_count[0,1]/residence_count[0,0]"
   ]
  }
 ],
 "metadata": {
  "kernelspec": {
   "display_name": "Python 3",
   "language": "python",
   "name": "python3"
  },
  "language_info": {
   "codemirror_mode": {
    "name": "ipython",
    "version": 3
   },
   "file_extension": ".py",
   "mimetype": "text/x-python",
   "name": "python",
   "nbconvert_exporter": "python",
   "pygments_lexer": "ipython3",
   "version": "3.6.8"
  }
 },
 "nbformat": 4,
 "nbformat_minor": 2
}
