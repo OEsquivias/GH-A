{
 "cells": [
  {
   "cell_type": "markdown",
   "metadata": {},
   "source": [
    "### **Which frames have a water molecule in reactive position(close to the acid/base and oriented to the anomeric carbon)?**"
   ]
  },
  {
   "cell_type": "code",
   "execution_count": 2,
   "metadata": {},
   "outputs": [],
   "source": [
    "import numpy as np\n",
    "import matplotlib.pyplot as plt\n",
    "import mdtraj as md\n",
    "import itertools"
   ]
  },
  {
   "cell_type": "markdown",
   "metadata": {},
   "source": [
    "Write the path of the simulation and run just the cell of the simulation you want to analyze"
   ]
  },
  {
   "cell_type": "code",
   "execution_count": 3,
   "metadata": {},
   "outputs": [],
   "source": [
    "dir_name = \"/home/oriol/Oriol/coses_aliens/Irene_GH20/Water/\"\n",
    "top_file = \"/home/oriol/Oriol/coses_aliens/Irene_GH20/Water/lnbase-s2-oxi.parm7\"\n",
    "file = dir_name + \"prod_oxi_free_r3_50ns.nc\""
   ]
  },
  {
   "cell_type": "markdown",
   "metadata": {},
   "source": [
    "This cell loads just the information of the trajectory, not all the coordinates"
   ]
  },
  {
   "cell_type": "code",
   "execution_count": 4,
   "metadata": {},
   "outputs": [],
   "source": [
    "traj = md.formats.NetCDFTrajectoryFile(file) # .nc format\n",
    "top = md.load_prmtop(top_file)"
   ]
  },
  {
   "cell_type": "code",
   "execution_count": 5,
   "metadata": {},
   "outputs": [
    {
     "name": "stdout",
     "output_type": "stream",
     "text": [
      "Frames = 2500\n"
     ]
    }
   ],
   "source": [
    "print(\"Frames =\",traj.n_frames)"
   ]
  },
  {
   "cell_type": "markdown",
   "metadata": {},
   "source": [
    "Select the atoms to compute the distances"
   ]
  },
  {
   "cell_type": "code",
   "execution_count": 6,
   "metadata": {},
   "outputs": [
    {
     "name": "stdout",
     "output_type": "stream",
     "text": [
      "CPU times: user 215 ms, sys: 15 µs, total: 215 ms\n",
      "Wall time: 214 ms\n"
     ]
    }
   ],
   "source": [
    "acid_base = top.select('resid 281 and sidechain and type O') #0-based index, residue 156 [E173]\n",
    "c_anom = top.select('index 9727')                            #Anomeric carbon\n",
    "H_wat = top.select('water and type H')                       #Both Hydrogen atoms of each water molecule\n",
    "O_wat = top.select('water and type O')                       #Oxygen atoms of each water molecule"
   ]
  },
  {
   "cell_type": "code",
   "execution_count": 24,
   "metadata": {},
   "outputs": [
    {
     "name": "stdout",
     "output_type": "stream",
     "text": [
      "Number of water molecules = 33884\n",
      "Index of oxygens of acid/base residue: [4330 4331]\n",
      "Index of anomeric carbon: [9727]\n"
     ]
    }
   ],
   "source": [
    "print(\"Number of water molecules =\",np.shape(O_wat)[0])\n",
    "print(\"Index of oxygens of acid/base residue:\",acid_base[:])\n",
    "print(\"Index of anomeric carbon:\",c_anom[:])"
   ]
  },
  {
   "cell_type": "markdown",
   "metadata": {},
   "source": [
    "### 1.To obtain oriented water molecules"
   ]
  },
  {
   "cell_type": "markdown",
   "metadata": {},
   "source": [
    "Cutoff[Å] to consider \"close\" water:"
   ]
  },
  {
   "cell_type": "code",
   "execution_count": 31,
   "metadata": {},
   "outputs": [],
   "source": [
    "#Modify here the desired cutoff\n",
    "O_cutoff = 3.8\n",
    "H_cutoff = 2.2\n",
    "\n",
    "O_cutoff /= 10  #MDtraj module uses nanometers\n",
    "H_cutoff /= 10"
   ]
  },
  {
   "cell_type": "code",
   "execution_count": 32,
   "metadata": {},
   "outputs": [
    {
     "name": "stdout",
     "output_type": "stream",
     "text": [
      "CPU times: user 2min 15s, sys: 160 ms, total: 2min 15s\n",
      "Wall time: 2min 15s\n"
     ]
    }
   ],
   "source": [
    "%%time\n",
    "\n",
    "pair_array_H = np.array(list(itertools.product(H_wat, acid_base))) #Pairs of all possible combinations between H atoms indexes and O indexes of Acid-Base\n",
    "pair_array_O = np.array(list(itertools.product(O_wat, c_anom)))  \n",
    "pair_array_c_H = np.array(list(itertools.product(H_wat, c_anom))) \n",
    "\n",
    "traj.seek(0, whence=0) \n",
    "close_wat = []  \n",
    "oriented_wat = [] \n",
    "dist_H = np.empty((0,pair_array_H.shape[0]))\n",
    "dist_O = np.empty((0,pair_array_O.shape[0])) \n",
    "dist_c_H = np.empty((0,pair_array_c_H.shape[0])) \n",
    "\n",
    "index_time = np.zeros((100,2))   #max allowed waters in one frame (100)\n",
    "residence_count = np.zeros((1,2)) \n",
    "max_residence = 0\n",
    "\n",
    "for i in range(traj.n_frames):      \n",
    "    index_list=[]                   \n",
    "    frame = traj.read_as_traj(top,n_frames=1)   \n",
    "    dist_H = md.compute_distances(frame, pair_array_H)[0] \n",
    "    dist_O = md.compute_distances(frame, pair_array_O)[0] \n",
    "    dist_c_H = md.compute_distances(frame, pair_array_c_H)[0] \n",
    "    count = 0\n",
    "    oriented_count = 0\n",
    "    for j in range(dist_O.shape[0]): \n",
    "        if dist_O[j]>O_cutoff: \n",
    "            continue \n",
    "        \n",
    "        for k in range(4):          \n",
    "            if dist_H[4*j+k]<H_cutoff: \n",
    "                count+=1 \n",
    "                break \n",
    "        else: \n",
    "            continue\n",
    "        index_list.append(O_wat[j]) \n",
    "    \n",
    "        if dist_c_H[2*j]<dist_O[j] or dist_c_H[2*j+1]<dist_O[j]: \n",
    "            continue \n",
    "        oriented_count += 1 \n",
    "    \n",
    "    for m in range(index_time.shape[0]): \n",
    "        if index_time[m,0] in index_list: \n",
    "            index_time[m,1] += 1\n",
    "            index_list.remove(index_time[m,0]) \n",
    "            if index_time[m,1] > max_residence: \n",
    "                max_residence = index_time[m,1] \n",
    "                max_index_residence = index_time[m,0] \n",
    "        else: \n",
    "            if index_time[m,0] != -1: \n",
    "                residence_count[0,0] += 1\n",
    "                residence_count[0,1] += index_time[m,1] \n",
    "                index_time[m,1] = 0 \n",
    "                index_time[m,0] = -1 \n",
    "            \n",
    "    for n in index_list:\n",
    "        p = 0 \n",
    "        while index_time[p,0] != -1:\n",
    "            p += 1 \n",
    "        index_time[p,0] = n \n",
    "        index_time[p,1] = 1 \n",
    "    \n",
    "    close_wat.append([frame.time[0],count])\n",
    "    oriented_wat.append([frame.time[0],oriented_count,traj.tell()])\n",
    "close_waters=np.asarray(close_wat)\n",
    "oriented_waters=np.asarray(oriented_wat)\n",
    "residence_time = residence_count[0,1]/residence_count[0,0]"
   ]
  },
  {
   "cell_type": "code",
   "execution_count": 33,
   "metadata": {},
   "outputs": [
    {
     "name": "stdout",
     "output_type": "stream",
     "text": [
      "Mean of oriented water molecules over time = 0.3136\n"
     ]
    }
   ],
   "source": [
    "#Mean of oriented water molecules over time\n",
    "mean_ori_wat = np.sum(oriented_waters[:,1])/oriented_waters[:,1].shape[0]\n",
    "print(\"Mean of oriented water molecules over time =\", mean_ori_wat)"
   ]
  },
  {
   "cell_type": "code",
   "execution_count": 34,
   "metadata": {},
   "outputs": [
    {
     "name": "stdout",
     "output_type": "stream",
     "text": [
      "residence time = 1.512 ps \n",
      "mean residence time = 30.247 ps  \n",
      "maximum residence time = 180.0 ps\n",
      "frame = 20ps\n"
     ]
    }
   ],
   "source": [
    "frame_ps = 20 #Time between frames, depends on your simulation: 0,002ps/1step (timestep) * 10000steps/1frame (frame printing stride) = 20 ps per frame\n",
    "print(\"residence time = {} ps \".format(round(residence_time,3)))\n",
    "print(\"mean residence time = {} ps  \".format(round(residence_time*frame_ps,3)))\n",
    "print(\"maximum residence time = {} ps\".format(max_residence*frame_ps))\n",
    "print(\"frame = {}ps\".format(frame_ps))"
   ]
  },
  {
   "cell_type": "code",
   "execution_count": 35,
   "metadata": {},
   "outputs": [
    {
     "name": "stdout",
     "output_type": "stream",
     "text": [
      "Mean of close water molecules over time = 0.7856\n"
     ]
    }
   ],
   "source": [
    "#Mean of close water molecules over time\n",
    "mean_wat = np.sum(close_waters[:,1])/close_waters[:,1].shape[0]\n",
    "print(\"Mean of close water molecules over time =\", mean_wat)"
   ]
  },
  {
   "cell_type": "code",
   "execution_count": 36,
   "metadata": {
    "scrolled": true
   },
   "outputs": [
    {
     "data": {
      "image/png": "[encoded data removed]",
      "text/plain": [
       "<Figure size 720x432 with 1 Axes>"
      ]
     },
     "metadata": {
      "needs_background": "light"
     },
     "output_type": "display_data"
    }
   ],
   "source": [
    "fig1 = plt.figure(figsize=(10,6))\n",
    "plt.scatter(oriented_waters[:,0]/1000,oriented_waters[:,1], s=4)\n",
    "# plt.scatter(oriented_waters[:,2],oriented_waters[:,1], s=0.5)\n",
    "# plt.text(120,1.75,\"Mean residence time:      {}ps\".format(round(residence_time*frame_ps,1)),fontsize=18)\n",
    "# plt.text(120,1.625,\"Mean oriented molecules: {}\".format(round(mean_ori_wat,3)),fontsize=18)\n",
    "# plt.text(120,1.5,\"Mean close molecules:      {}\".format(round(mean_wat,3)),fontsize=18)\n",
    "# plt.xlabel(\"Frame\", fontsize=16)\n",
    "plt.xlabel(\"Time (ns)\", fontsize=20)\n",
    "plt.ylabel(\"Water molecules\", fontsize=20)\n",
    "plt.title(\"Reactive water molecules on each frame\", fontsize=24)\n",
    "plt.xticks(fontsize=18)\n",
    "plt.yticks([0,1,2,3],fontsize=18)  #Modify the yticks if there is more than 2 close waters in your result\n",
    "# plt.savefig(\"Oriented_waters_{}A-{}A.png\".format(O_cutoff,H_cutoff))\n",
    "plt.show()"
   ]
  },
  {
   "cell_type": "code",
   "execution_count": 37,
   "metadata": {},
   "outputs": [
    {
     "data": {
      "image/png": "[encoded data removed]",
      "text/plain": [
       "<Figure size 432x288 with 1 Axes>"
      ]
     },
     "metadata": {
      "needs_background": "light"
     },
     "output_type": "display_data"
    }
   ],
   "source": [
    "plt.scatter(close_waters[:,0]/1000,close_waters[:,1], s=0.001)\n",
    "plt.xlabel(\"Time [ns]\")\n",
    "plt.ylabel(\"Water molecules\")\n",
    "plt.title(\"Close water molecules on each frame\")\n",
    "#plt.savefig(\"Close_waters.png\")\n",
    "plt.show()"
   ]
  },
  {
   "cell_type": "markdown",
   "metadata": {},
   "source": [
    "Calculates the average of close waters in a window of X frames"
   ]
  },
  {
   "cell_type": "code",
   "execution_count": 38,
   "metadata": {},
   "outputs": [],
   "source": [
    "bin_size = 200 #number of frames in the window"
   ]
  },
  {
   "cell_type": "code",
   "execution_count": 39,
   "metadata": {
    "tags": []
   },
   "outputs": [
    {
     "data": {
      "image/png": "[encoded data removed]",
      "text/plain": [
       "<Figure size 432x288 with 1 Axes>"
      ]
     },
     "metadata": {
      "needs_background": "light"
     },
     "output_type": "display_data"
    }
   ],
   "source": [
    "mean_list = []\n",
    "for i in range(close_waters[:,1].shape[0] - bin_size):\n",
    "    mean_list.append(np.sum(close_waters[i:bin_size+i,1])/bin_size)\n",
    "plt.scatter(close_waters[int(bin_size/2):-int(bin_size/2),0]/1000,mean_list, s=0.2)\n",
    "# plt.ylim(0,1.75)\n",
    "plt.xlabel(\"Time [ns]\")\n",
    "plt.ylabel(\"Water molecules\")\n",
    "plt.title(\"Mean of close water molecules every {} frames\".format(bin_size))\n",
    "# plt.savefig(\"Mean_close_waters3_{}.png\".format(bin_size))\n",
    "plt.show()"
   ]
  },
  {
   "cell_type": "markdown",
   "metadata": {},
   "source": [
    "### 2.To obtain only close waters\n",
    "This part doesn't calculate if the molecules are oriented, but it's usually a bit faster"
   ]
  },
  {
   "cell_type": "code",
   "execution_count": null,
   "metadata": {
    "tags": []
   },
   "outputs": [],
   "source": [
    "%%time\n",
    "\n",
    "traj.seek(0, whence=0) #Go to the first frame\n",
    "O_cutoff = 0.6 \n",
    "H_cutoff = 0.35\n",
    "close_wat = []\n",
    "dist_H = np.empty((0,pair_array_H.shape[0]))\n",
    "dist_O = np.empty((0,pair_array_O.shape[0]))\n",
    "\n",
    "index_time = np.zeros((10,2))   #max allowed waters\n",
    "residence_count = np.zeros((1,2))\n",
    "max_residence = 0\n",
    "\n",
    "for i in range(traj.n_frames):       #loop frames\n",
    "    index_list=[]\n",
    "    frame = traj.read_as_traj(top,n_frames=1)  #Load coordinates of current frame\n",
    "    dist_H = md.compute_distances(frame, pair_array_H)[0]\n",
    "    dist_O = md.compute_distances(frame, pair_array_O)[0]\n",
    "    \n",
    "    count = 0\n",
    "    for j in range(dist_O.shape[0]): #loop waters\n",
    "        if dist_O[j]>O_cutoff:\n",
    "            continue\n",
    "        for k in range(4):           #loop Hydrogens\n",
    "            if dist_H[4*j+k]<H_cutoff:\n",
    "                count+=1                  \n",
    "                break\n",
    "        else:      \n",
    "            continue      #If there is no close water, jump to the new frame\n",
    "        index_list.append(O_wat[j])  #Write down in a list the oxygen index that is \n",
    "    \n",
    "    #To calculate the residence time\n",
    "    for m in range(index_time.shape[0]):\n",
    "        if index_time[m,0] in index_list:        \n",
    "            index_time[m,1] += 1\n",
    "            index_list.remove(index_time[m,0])\n",
    "            if index_time[m,1] > max_residence:\n",
    "                max_residence = index_time[m,1]\n",
    "                max_index_residence = index_time[m,0]\n",
    "        else:\n",
    "            if index_time[m,0] != -1:\n",
    "                residence_count[0,0] += 1\n",
    "                residence_count[0,1] += index_time[m,1]\n",
    "                index_time[m,1] = 0\n",
    "                index_time[m,0] = -1\n",
    "            \n",
    "            \n",
    "    for n in index_list:\n",
    "        p = 0\n",
    "        while index_time[p,0] != -1:\n",
    "            p += 1\n",
    "        index_time[p,0] = n\n",
    "        index_time[p,1] = 1            \n",
    "    \n",
    "    close_wat.append([frame.time[0],count])\n",
    "close_waters=np.asarray(close_wat)\n",
    "residence_time = residence_count[0,1]/residence_count[0,0]"
   ]
  },
  {
   "cell_type": "code",
   "execution_count": null,
   "metadata": {},
   "outputs": [],
   "source": [
    "frame_ps = 20 #Time between frames, depends on your simulation: 0,002ps/1step (timestep) * 10000steps/1frame (frame printing stride) = 20 ps per frame\n",
    "print(\"residence time = {} ps \".format(round(residence_time,3)))\n",
    "print(\"mean residence time = {} ps  \".format(round(residence_time*frame_ps,3)))\n",
    "print(\"maximum residence time = {} ps\".format(max_residence*frame_ps))\n",
    "print(\"frame = {}ps\".format(frame_ps))"
   ]
  },
  {
   "cell_type": "code",
   "execution_count": null,
   "metadata": {},
   "outputs": [],
   "source": [
    "figx = plt.figure(figsize=(10,6))\n",
    "plt.scatter(close_waters[:,0]/1000,close_waters[:,1], s=4)\n",
    "# plt.scatter(oriented_waters[:,2],oriented_waters[:,1], s=0.5)\n",
    "# plt.text(120,1.75,\"Mean residence time:      {}ps\".format(round(residence_time*frame_ps,1)),fontsize=18)\n",
    "# plt.text(120,1.625,\"Mean oriented molecules: {}\".format(round(mean_ori_wat,3)),fontsize=18)\n",
    "# plt.text(120,1.5,\"Mean close molecules:      {}\".format(round(mean_wat,3)),fontsize=18)\n",
    "# plt.xlabel(\"Frame\", fontsize=16)\n",
    "plt.xlabel(\"Time (ns)\", fontsize=20)\n",
    "plt.ylabel(\"Water molecules\", fontsize=20)\n",
    "plt.title(\"Close water molecules on each frame\", fontsize=24)\n",
    "plt.xticks(fontsize=18)\n",
    "plt.yticks([0,1,2,3,4,5],fontsize=18)  #Modify the yticks if there is more than 2 close waters in your result\n",
    "# plt.savefig(\"Close_waters_{}A-{}A.png\".format(O_cutoff,H_cutoff))\n",
    "plt.show()"
   ]
  },
  {
   "cell_type": "code",
   "execution_count": null,
   "metadata": {},
   "outputs": [],
   "source": []
  }
 ],
 "metadata": {
  "kernelspec": {
   "display_name": "Python 3",
   "language": "python",
   "name": "python3"
  },
  "language_info": {
   "codemirror_mode": {
    "name": "ipython",
    "version": 3
   },
   "file_extension": ".py",
   "mimetype": "text/x-python",
   "name": "python",
   "nbconvert_exporter": "python",
   "pygments_lexer": "ipython3",
   "version": "3.6.7"
  }
 },
 "nbformat": 4,
 "nbformat_minor": 4
}
