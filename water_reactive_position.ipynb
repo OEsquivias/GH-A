{
 "cells": [
  {
   "cell_type": "markdown",
   "metadata": {},
   "source": [
    "### **Which frames have a water molecule in reactive position(close to the acid/base and oriented to the anomeric carbon)?**"
   ]
  },
  {
   "cell_type": "code",
   "execution_count": null,
   "metadata": {},
   "outputs": [],
   "source": []
  },
  {
   "cell_type": "code",
   "execution_count": 6,
   "metadata": {},
   "outputs": [],
   "source": [
    "import numpy as np\n",
    "import matplotlib.pyplot as plt\n",
    "import mdtraj as md\n",
    "import itertools"
   ]
  },
  {
   "cell_type": "markdown",
   "metadata": {},
   "source": [
    "Write the path of the simulation and run just the cell of the simulation you want to analyze"
   ]
  },
  {
   "cell_type": "code",
   "execution_count": null,
   "metadata": {},
   "outputs": [],
   "source": [
    "#Example 1\n",
    "dir_name = \"/home/oriol/my_directory/\"\n",
    "top_file = \"/home/oriol/another_directory/topology.prmtop\"\n",
    "file = dir_name + \"trajectory.nc\""
   ]
  },
  {
   "cell_type": "code",
   "execution_count": null,
   "metadata": {},
   "outputs": [],
   "source": [
    "#Example 2\n",
    "dir_name = \"/home/oriol/my_directory/\"\n",
    "top_file = dir_name + \"topology_file2.prmtop\"\n",
    "file = dir_name + \"trajectory_file2.nc\""
   ]
  },
  {
   "cell_type": "code",
   "execution_count": 2,
   "metadata": {},
   "outputs": [],
   "source": [
    "#2_glca_deprot equilibration\n",
    "dir_name = \"/home/oriol/Oriol/GH_A/2_glca_deprot/clas_deprot/\"\n",
    "top_file = dir_name + \"3vo0_deprot.prmtop\"\n",
    "file = dir_name + \"3vo0_deprot_eq.mdcrd\""
   ]
  },
  {
   "cell_type": "code",
   "execution_count": 36,
   "metadata": {},
   "outputs": [],
   "source": [
    "#2_glca_deprot production\n",
    "dir_name = \"/home/oriol/Oriol/GH_A/2_glca_deprot/clas_deprot/\"\n",
    "top_file = dir_name + \"3vo0_deprot.prmtop\"\n",
    "file = dir_name + \"3vo0_deprot_prod.mdcrd\""
   ]
  },
  {
   "cell_type": "code",
   "execution_count": 2,
   "metadata": {},
   "outputs": [],
   "source": [
    "#21_E45deprot_19 production\n",
    "dir_name = \"/home/oriol/Oriol/GH_A/21_E45deprot_19/\"\n",
    "top_file = dir_name + \"3vo0_deprot45.prmtop\"\n",
    "file = dir_name + \"prod/3vo0_deprot45_prod.nc\""
   ]
  },
  {
   "cell_type": "code",
   "execution_count": 7,
   "metadata": {},
   "outputs": [],
   "source": [
    "#27_restraint21 production\n",
    "dir_name = \"/home/oriol/Oriol/GH_A/GH79/classical/GH_wt/27_restraint21/\"\n",
    "top_file = dir_name + \"3vo0_rest.prmtop\"\n",
    "file = dir_name + \"prod/3vo0_rest_prod.nc\""
   ]
  },
  {
   "cell_type": "code",
   "execution_count": null,
   "metadata": {},
   "outputs": [],
   "source": []
  },
  {
   "cell_type": "code",
   "execution_count": null,
   "metadata": {},
   "outputs": [],
   "source": []
  },
  {
   "cell_type": "markdown",
   "metadata": {},
   "source": [
    "This cell loads just the information of the trajectory, not all the coordinates"
   ]
  },
  {
   "cell_type": "code",
   "execution_count": 8,
   "metadata": {},
   "outputs": [
    {
     "name": "stdout",
     "output_type": "stream",
     "text": [
      "CPU times: user 764 ms, sys: 28 ms, total: 792 ms\n",
      "Wall time: 1.18 s\n"
     ]
    }
   ],
   "source": [
    "%%time\n",
    "traj = md.formats.NetCDFTrajectoryFile(file) # .nc format\n",
    "top = md.load_prmtop(top_file)"
   ]
  },
  {
   "cell_type": "code",
   "execution_count": 9,
   "metadata": {},
   "outputs": [
    {
     "name": "stdout",
     "output_type": "stream",
     "text": [
      "Frames = 8209\n"
     ]
    }
   ],
   "source": [
    "print(\"Frames =\",traj.n_frames)"
   ]
  },
  {
   "cell_type": "markdown",
   "metadata": {},
   "source": [
    "Select the atoms to compute the distances"
   ]
  },
  {
   "cell_type": "code",
   "execution_count": 10,
   "metadata": {},
   "outputs": [
    {
     "name": "stdout",
     "output_type": "stream",
     "text": [
      "CPU times: user 148 ms, sys: 0 ns, total: 148 ms\n",
      "Wall time: 150 ms\n"
     ]
    }
   ],
   "source": [
    "%%time\n",
    "acid_base = top.select('resid 155 and sidechain and type O') #0-based index, residue 156 [E173]\n",
    "c_anom = top.select('resname GUG and name C1')               #Anomeric carbon\n",
    "H_wat = top.select('water and type H')                       #Both Hydrogen atoms of each water molecule\n",
    "O_wat = top.select('water and type O')                       #Oxygen atoms of each water molecule"
   ]
  },
  {
   "cell_type": "code",
   "execution_count": 11,
   "metadata": {},
   "outputs": [
    {
     "name": "stdout",
     "output_type": "stream",
     "text": [
      "CPU times: user 40 ms, sys: 4 ms, total: 44 ms\n",
      "Wall time: 45.3 ms\n"
     ]
    }
   ],
   "source": [
    "%%time\n",
    "pair_array_H = np.array(list(itertools.product(H_wat, acid_base))) #Pairs of all possible combinations between H atoms indexes and O indexes of Acid-Base\n",
    "pair_array_O = np.array(list(itertools.product(O_wat, c_anom)))  \n",
    "\n",
    "pair_array_c_H = np.array(list(itertools.product(H_wat, c_anom))) "
   ]
  },
  {
   "cell_type": "markdown",
   "metadata": {},
   "source": [
    "### 1.To obtain oriented water molecules"
   ]
  },
  {
   "cell_type": "markdown",
   "metadata": {},
   "source": [
    "Cutoff[Å] to consider \"close\" water:"
   ]
  },
  {
   "cell_type": "code",
   "execution_count": 12,
   "metadata": {},
   "outputs": [],
   "source": [
    "#Modify here the desired cutoff\n",
    "O_cutoff = 4.25 \n",
    "H_cutoff = 2"
   ]
  },
  {
   "cell_type": "code",
   "execution_count": 13,
   "metadata": {},
   "outputs": [
    {
     "name": "stdout",
     "output_type": "stream",
     "text": [
      "CPU times: user 1min 26s, sys: 864 ms, total: 1min 27s\n",
      "Wall time: 1min 39s\n"
     ]
    }
   ],
   "source": [
    "%%time\n",
    "\n",
    "traj.seek(0, whence=0)\n",
    "O_cutoff /= 10  #MDtraj module uses nanometers\n",
    "H_cutoff /= 10\n",
    "close_wat = []\n",
    "oriented_wat = []\n",
    "dist_H = np.empty((0,pair_array_H.shape[0]))\n",
    "dist_O = np.empty((0,pair_array_O.shape[0]))\n",
    "dist_c_H = np.empty((0,pair_array_c_H.shape[0]))\n",
    "\n",
    "index_time = np.zeros((4,2))   #max allowed waters\n",
    "residence_count = np.zeros((1,2))\n",
    "max_residence = 0\n",
    "\n",
    "for i in range(traj.n_frames):       #loop frames\n",
    "    index_list=[]\n",
    "    frame = traj.read_as_traj(top,n_frames=1)\n",
    "    dist_H = md.compute_distances(frame, pair_array_H)[0]\n",
    "    dist_O = md.compute_distances(frame, pair_array_O)[0]\n",
    "    dist_c_H = md.compute_distances(frame, pair_array_c_H)[0]    \n",
    "    count = 0\n",
    "    oriented_count = 0\n",
    "    for j in range(dist_O.shape[0]): #loop waters\n",
    "        if dist_O[j]>O_cutoff:\n",
    "            continue\n",
    "        \n",
    "        for k in range(4):           #loop Hydrogens (2*2)\n",
    "            if dist_H[4*j+k]<H_cutoff:\n",
    "                count+=1\n",
    "                break\n",
    "        else:\n",
    "            break\n",
    "        index_list.append(O_wat[j])  \n",
    "    \n",
    "        if dist_c_H[2*j]<dist_O[j] or dist_c_H[2*j+1]<dist_O[j]:\n",
    "            break\n",
    "        oriented_count += 1\n",
    "    \n",
    "    for m in range(index_time.shape[0]):\n",
    "        if index_time[m,0] in index_list:\n",
    "            index_time[m,1] += 1\n",
    "            index_list.remove(index_time[m,0])\n",
    "            if index_time[m,1] > max_residence:\n",
    "                max_residence = index_time[m,1]\n",
    "                max_index_residence = index_time[m,0]\n",
    "        else:\n",
    "            if index_time[m,0] != -1:\n",
    "                residence_count[0,0] += 1\n",
    "                residence_count[0,1] += index_time[m,1]\n",
    "                index_time[m,1] = 0\n",
    "                index_time[m,0] = -1\n",
    "            \n",
    "    for n in index_list:\n",
    "        p = 0\n",
    "        while index_time[p,0] != -1:\n",
    "            p += 1\n",
    "        index_time[p,0] = n\n",
    "        index_time[p,1] = 1            \n",
    "    \n",
    "    close_wat.append([frame.time[0],count])\n",
    "    oriented_wat.append([frame.time[0],oriented_count,traj.tell()])\n",
    "close_waters=np.asarray(close_wat)\n",
    "oriented_waters=np.asarray(oriented_wat)\n",
    "residence_time = residence_count[0,1]/residence_count[0,0]"
   ]
  },
  {
   "cell_type": "code",
   "execution_count": 14,
   "metadata": {},
   "outputs": [
    {
     "name": "stdout",
     "output_type": "stream",
     "text": [
      "22.0\n",
      "15333.0\n"
     ]
    }
   ],
   "source": [
    "print(max_residence)\n",
    "print(max_index_residence)"
   ]
  },
  {
   "cell_type": "code",
   "execution_count": 15,
   "metadata": {},
   "outputs": [
    {
     "name": "stdout",
     "output_type": "stream",
     "text": [
      "Mean of close water molecules over time = 0.02509440857595322\n"
     ]
    }
   ],
   "source": [
    "#Mean of oriented water molecules over time\n",
    "mean_ori_wat = np.sum(oriented_waters[:,1])/oriented_waters[:,1].shape[0]\n",
    "print(\"Mean of close water molecules over time =\", mean_ori_wat)"
   ]
  },
  {
   "cell_type": "code",
   "execution_count": 16,
   "metadata": {},
   "outputs": [
    {
     "name": "stdout",
     "output_type": "stream",
     "text": [
      "mean residence time = 41.227 ps  \n",
      "maximum residence time = 440.0 ps\n",
      "frame = 20ps\n"
     ]
    }
   ],
   "source": [
    "frame_ps = 20 #Time between frames, depends on your simulation\n",
    "print(\"mean residence time = {} ps  \".format(round(residence_time*frame_ps,3)))\n",
    "print(\"maximum residence time = {} ps\".format(max_residence*frame_ps))\n",
    "print(\"frame = {}ps\".format(frame_ps))"
   ]
  },
  {
   "cell_type": "code",
   "execution_count": 18,
   "metadata": {},
   "outputs": [
    {
     "name": "stdout",
     "output_type": "stream",
     "text": [
      "Mean of close water molecules over time = 0.6712145206480692\n"
     ]
    }
   ],
   "source": [
    "#Mean of close water molecules over time\n",
    "mean_wat = np.sum(close_waters[:,1])/close_waters[:,1].shape[0]\n",
    "print(\"Mean of close water molecules over time =\", mean_wat)"
   ]
  },
  {
   "cell_type": "code",
   "execution_count": 22,
   "metadata": {},
   "outputs": [
    {
     "data": {
      "image/png": "[encoded data removed]",
      "text/plain": [
       "<Figure size 720x432 with 1 Axes>"
      ]
     },
     "metadata": {
      "needs_background": "light"
     },
     "output_type": "display_data"
    }
   ],
   "source": [
    "fig1 = plt.figure(figsize=(10,6))\n",
    "plt.scatter(oriented_waters[:,0]/1000,oriented_waters[:,1], s=4)\n",
    "# plt.scatter(oriented_waters[:,2],oriented_waters[:,1], s=0.5)\n",
    "plt.text(120,1.75,\"Mean residence time:      {}ps\".format(round(residence_time*frame_ps,1)),fontsize=18)\n",
    "plt.text(120,1.625,\"Mean oriented molecules: {}\".format(round(mean_ori_wat,3)),fontsize=18)\n",
    "plt.text(120,1.5,\"Mean close molecules:      {}\".format(round(mean_wat,3)),fontsize=18)\n",
    "# plt.xlabel(\"Frame\", fontsize=16)\n",
    "plt.xlabel(\"Time (ns)\", fontsize=20)\n",
    "plt.ylabel(\"Water molecules\", fontsize=20)\n",
    "plt.title(\"Reactive water molecules on each frame\", fontsize=24)\n",
    "plt.xticks(fontsize=18)\n",
    "plt.yticks([0,1,2],fontsize=18)  #Modify the yticks if there is more than 2 close waters in your result\n",
    "plt.savefig(\"Oriented_waters_{}A-{}A.png\".format(O_cutoff,H_cutoff))\n",
    "plt.show()"
   ]
  },
  {
   "cell_type": "code",
   "execution_count": 23,
   "metadata": {},
   "outputs": [
    {
     "data": {
      "image/png": "[encoded data removed]",
      "text/plain": [
       "<Figure size 432x288 with 1 Axes>"
      ]
     },
     "metadata": {
      "needs_background": "light"
     },
     "output_type": "display_data"
    }
   ],
   "source": [
    "plt.scatter(close_waters[:,0]/1000,close_waters[:,1], s=0.001)\n",
    "plt.xlabel(\"Time [ns]\")\n",
    "plt.ylabel(\"Water molecules\")\n",
    "plt.title(\"Close water molecules on each frame\")\n",
    "#plt.savefig(\"Close_waters.png\")\n",
    "plt.show()"
   ]
  },
  {
   "cell_type": "code",
   "execution_count": null,
   "metadata": {},
   "outputs": [],
   "source": []
  },
  {
   "cell_type": "markdown",
   "metadata": {},
   "source": [
    "Calculates the average of close waters in a window of X frames"
   ]
  },
  {
   "cell_type": "code",
   "execution_count": 24,
   "metadata": {},
   "outputs": [],
   "source": [
    "bin_size = 200 #number of frames in the window"
   ]
  },
  {
   "cell_type": "code",
   "execution_count": 25,
   "metadata": {},
   "outputs": [
    {
     "data": {
      "image/png": "[encoded data removed]",
      "text/plain": [
       "<Figure size 432x288 with 1 Axes>"
      ]
     },
     "metadata": {
      "needs_background": "light"
     },
     "output_type": "display_data"
    }
   ],
   "source": [
    "mean_list = []\n",
    "for i in range(close_waters[:,1].shape[0] - bin_size):\n",
    "    mean_list.append(np.sum(close_waters[i:bin_size+i,1])/bin_size)\n",
    "plt.scatter(close_waters[int(bin_size/2):-int(bin_size/2),0]/1000,mean_list, s=0.2)\n",
    "# plt.ylim(0,1.75)\n",
    "plt.xlabel(\"Time [ns]\")\n",
    "plt.ylabel(\"Water molecules\")\n",
    "plt.title(\"Mean of close water molecules every {} frames\".format(bin_size))\n",
    "plt.savefig(\"Mean_close_waters_{}.png\".format(bin_size))\n",
    "plt.show()"
   ]
  },
  {
   "cell_type": "code",
   "execution_count": null,
   "metadata": {},
   "outputs": [],
   "source": []
  },
  {
   "cell_type": "code",
   "execution_count": null,
   "metadata": {},
   "outputs": [],
   "source": []
  },
  {
   "cell_type": "markdown",
   "metadata": {},
   "source": [
    "### 2.To obtain only close waters\n",
    "This part doesn't calculate if the molecules are oriented, but it's usually a bit faster"
   ]
  },
  {
   "cell_type": "code",
   "execution_count": 27,
   "metadata": {},
   "outputs": [
    {
     "name": "stdout",
     "output_type": "stream",
     "text": [
      "CPU times: user 2min 16s, sys: 12 ms, total: 2min 16s\n",
      "Wall time: 2min 16s\n"
     ]
    }
   ],
   "source": [
    "%%time\n",
    "\n",
    "traj.seek(0, whence=0) #Go to the first frame\n",
    "O_cutoff = 0.425 #Angstroms\n",
    "H_cutoff = 0.2\n",
    "close_wat = []\n",
    "dist_H = np.empty((0,pair_array_H.shape[0]))\n",
    "dist_O = np.empty((0,pair_array_O.shape[0]))\n",
    "\n",
    "index_time = np.zeros((4,2))   #max allowed waters\n",
    "residence_count = np.zeros((1,2))\n",
    "max_residence = 0\n",
    "\n",
    "for i in range(traj.n_frames):       #loop frames\n",
    "    index_list=[]\n",
    "    frame = traj.read_as_traj(top,n_frames=1)  #Load coordinates of current frame\n",
    "    dist_H = md.compute_distances(frame, pair_array_H)[0]\n",
    "    dist_O = md.compute_distances(frame, pair_array_O)[0]\n",
    "    \n",
    "    count = 0\n",
    "    for j in range(dist_O.shape[0]): #loop waters\n",
    "        if dist_O[j]>O_cutoff:\n",
    "            continue\n",
    "        for k in range(4):           #loop Hydrogens\n",
    "            if dist_H[4*j+k]<H_cutoff:\n",
    "                count+=1                  \n",
    "                break\n",
    "        else:      \n",
    "            break      #If there is no close water, jump to the new frame\n",
    "        index_list.append(O_wat[j])  #Write down in a list the oxygen index that is \n",
    "    \n",
    "    #To calculate the residence time\n",
    "    for m in range(index_time.shape[0]):\n",
    "        if index_time[m,0] in index_list:        \n",
    "            index_time[m,1] += 1\n",
    "            index_list.remove(index_time[m,0])\n",
    "            if index_time[m,1] > max_residence:\n",
    "                max_residence = index_time[m,1]\n",
    "                max_index_residence = index_time[m,0]\n",
    "        else:\n",
    "            if index_time[m,0] != -1:\n",
    "                residence_count[0,0] += 1\n",
    "                residence_count[0,1] += index_time[m,1]\n",
    "                index_time[m,1] = 0\n",
    "                index_time[m,0] = -1\n",
    "            \n",
    "            \n",
    "    for n in index_list:\n",
    "        p = 0\n",
    "        while index_time[p,0] != -1:\n",
    "            p += 1\n",
    "        index_time[p,0] = n\n",
    "        index_time[p,1] = 1            \n",
    "    \n",
    "    close_wat.append([frame.time[0],count])\n",
    "close_waters=np.asarray(close_wat)\n",
    "residence_time = residence_count[0,1]/residence_count[0,0]"
   ]
  }
 ],
 "metadata": {
  "kernelspec": {
   "display_name": "Python 3",
   "language": "python",
   "name": "python3"
  },
  "language_info": {
   "codemirror_mode": {
    "name": "ipython",
    "version": 3
   },
   "file_extension": ".py",
   "mimetype": "text/x-python",
   "name": "python",
   "nbconvert_exporter": "python",
   "pygments_lexer": "ipython3",
   "version": "3.6.7"
  }
 },
 "nbformat": 4,
 "nbformat_minor": 4
}
