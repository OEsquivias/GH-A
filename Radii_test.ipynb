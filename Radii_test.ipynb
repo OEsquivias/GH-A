{
 "cells": [
  {
   "cell_type": "markdown",
   "metadata": {},
   "source": [
    "# Plot radii test"
   ]
  },
  {
   "cell_type": "code",
   "execution_count": 1,
   "metadata": {},
   "outputs": [],
   "source": [
    "import matplotlib.pyplot as plt\n",
    "import numpy as np"
   ]
  },
  {
   "cell_type": "code",
   "execution_count": null,
   "metadata": {},
   "outputs": [],
   "source": []
  },
  {
   "cell_type": "code",
   "execution_count": 24,
   "metadata": {},
   "outputs": [],
   "source": [
    "path = \"/home/oriol/Oriol/GH_A/qmmm/1_test/radii_test/\"\n",
    "name = \"energy_RESP.dat\""
   ]
  },
  {
   "cell_type": "code",
   "execution_count": 300,
   "metadata": {},
   "outputs": [],
   "source": [
    "path = \"/home/oriol/Oriol/GH_A/qmmm/1_test/radii_test/\"\n",
    "name = \"energy_RESP1.dat\""
   ]
  },
  {
   "cell_type": "code",
   "execution_count": 77,
   "metadata": {},
   "outputs": [],
   "source": [
    "path = \"/home/oriol/Oriol/GH_A/qmmm/1_test/radii_test/\"\n",
    "name = \"energy_RESP2.dat\""
   ]
  },
  {
   "cell_type": "code",
   "execution_count": 155,
   "metadata": {},
   "outputs": [],
   "source": [
    "path = \"/home/oriol/Oriol/GH_A/qmmm/2_2nd_frame/1_prep_gromos/radii_test/\"\n",
    "name = \"energy_RESP.dat\""
   ]
  },
  {
   "cell_type": "code",
   "execution_count": 140,
   "metadata": {},
   "outputs": [],
   "source": [
    "path = \"/home/oriol/Oriol/GH_A/qmmm/2_2nd_frame/1_prep_gromos/radii_test/\"\n",
    "name = \"energy_RESP2.dat\""
   ]
  },
  {
   "cell_type": "code",
   "execution_count": 9,
   "metadata": {},
   "outputs": [],
   "source": [
    "path = \"/home/oriol/Oriol/GH_A/qmmm/2_2nd_frame/2_wfopt/radii_test_b/\"\n",
    "name = \"energy_RESP.dat\""
   ]
  },
  {
   "cell_type": "code",
   "execution_count": 2,
   "metadata": {},
   "outputs": [],
   "source": [
    "path = \"/home/oriol/Oriol/GH_A/qmmm/3_2nd_frame_centered/2_wfopt/\"\n",
    "name = \"energy_RESP.dat\""
   ]
  },
  {
   "cell_type": "code",
   "execution_count": 5,
   "metadata": {},
   "outputs": [],
   "source": [
    "path = \"/home/oriol/Oriol/GH_A/GH79/CPMD/6_hydrolysis_pseudo/\"\n",
    "name = \"energy_RESP.dat\""
   ]
  },
  {
   "cell_type": "code",
   "execution_count": 6,
   "metadata": {},
   "outputs": [],
   "source": [
    "lines = 0\n",
    "lines = len(open(path+name).readlines(  ))\n",
    "table = np.zeros((lines,2))"
   ]
  },
  {
   "cell_type": "code",
   "execution_count": null,
   "metadata": {},
   "outputs": [],
   "source": []
  },
  {
   "cell_type": "code",
   "execution_count": 7,
   "metadata": {},
   "outputs": [
    {
     "ename": "ValueError",
     "evalue": "not enough values to unpack (expected 2, got 1)",
     "output_type": "error",
     "traceback": [
      "\u001b[0;31m---------------------------------------------------------------------------\u001b[0m",
      "\u001b[0;31mValueError\u001b[0m                                Traceback (most recent call last)",
      "\u001b[0;32m<ipython-input-7-a013d62b8fcd>\u001b[0m in \u001b[0;36m<module>\u001b[0;34m\u001b[0m\n\u001b[1;32m      3\u001b[0m \u001b[0mline\u001b[0m \u001b[0;34m=\u001b[0m \u001b[0;36m0\u001b[0m\u001b[0;34m\u001b[0m\u001b[0;34m\u001b[0m\u001b[0m\n\u001b[1;32m      4\u001b[0m \u001b[0;32mwhile\u001b[0m \u001b[0mm\u001b[0m\u001b[0;34m:\u001b[0m\u001b[0;34m\u001b[0m\u001b[0;34m\u001b[0m\u001b[0m\n\u001b[0;32m----> 5\u001b[0;31m     \u001b[0mradius\u001b[0m\u001b[0;34m,\u001b[0m\u001b[0menergy\u001b[0m \u001b[0;34m=\u001b[0m \u001b[0mm\u001b[0m\u001b[0;34m.\u001b[0m\u001b[0msplit\u001b[0m\u001b[0;34m(\u001b[0m\u001b[0;34m\"\\t\"\u001b[0m\u001b[0;34m)\u001b[0m\u001b[0;34m\u001b[0m\u001b[0;34m\u001b[0m\u001b[0m\n\u001b[0m\u001b[1;32m      6\u001b[0m     \u001b[0mtable\u001b[0m\u001b[0;34m[\u001b[0m\u001b[0mline\u001b[0m\u001b[0;34m,\u001b[0m\u001b[0;36m0\u001b[0m\u001b[0;34m]\u001b[0m\u001b[0;34m=\u001b[0m\u001b[0mint\u001b[0m\u001b[0;34m(\u001b[0m\u001b[0mradius\u001b[0m\u001b[0;34m)\u001b[0m\u001b[0;34m\u001b[0m\u001b[0;34m\u001b[0m\u001b[0m\n\u001b[1;32m      7\u001b[0m     \u001b[0mtable\u001b[0m\u001b[0;34m[\u001b[0m\u001b[0mline\u001b[0m\u001b[0;34m,\u001b[0m\u001b[0;36m1\u001b[0m\u001b[0;34m]\u001b[0m\u001b[0;34m=\u001b[0m\u001b[0mfloat\u001b[0m\u001b[0;34m(\u001b[0m\u001b[0menergy\u001b[0m\u001b[0;34m[\u001b[0m\u001b[0;34m:\u001b[0m\u001b[0;34m-\u001b[0m\u001b[0;36m1\u001b[0m\u001b[0;34m]\u001b[0m\u001b[0;34m)\u001b[0m\u001b[0;34m*\u001b[0m\u001b[0;36m627.509474\u001b[0m\u001b[0;34m\u001b[0m\u001b[0;34m\u001b[0m\u001b[0m\n",
      "\u001b[0;31mValueError\u001b[0m: not enough values to unpack (expected 2, got 1)"
     ]
    }
   ],
   "source": [
    "file = open(path+name, 'r')\n",
    "m = file.readline()\n",
    "line = 0\n",
    "while m:\n",
    "    radius,energy = m.split(\"\\t\")\n",
    "    table[line,0]=int(radius)\n",
    "    table[line,1]=float(energy[:-1])*627.509474\n",
    "    m = file.readline()\n",
    "    line += 1"
   ]
  },
  {
   "cell_type": "code",
   "execution_count": 8,
   "metadata": {},
   "outputs": [],
   "source": [
    "table_ESP = table"
   ]
  },
  {
   "cell_type": "code",
   "execution_count": 28,
   "metadata": {},
   "outputs": [],
   "source": [
    "path = \"/home/oriol/Oriol/GH_A/qmmm/1_test/radii_test/\"\n",
    "name = \"energy_RNN.dat\""
   ]
  },
  {
   "cell_type": "code",
   "execution_count": 93,
   "metadata": {},
   "outputs": [],
   "source": [
    "path = \"/home/oriol/Oriol/GH_A/qmmm/1_test/radii_test/\"\n",
    "name = \"energy_RNN1.dat\""
   ]
  },
  {
   "cell_type": "code",
   "execution_count": 94,
   "metadata": {},
   "outputs": [],
   "source": [
    "path = \"/home/oriol/Oriol/GH_A/qmmm/1_test/radii_test/\"\n",
    "name = \"energy_RNN2.dat\""
   ]
  },
  {
   "cell_type": "code",
   "execution_count": 159,
   "metadata": {},
   "outputs": [],
   "source": [
    "path = \"/home/oriol/Oriol/GH_A/qmmm/2_2nd_frame/1_prep_gromos/radii_test/\"\n",
    "name = \"energy_RNN.dat\""
   ]
  },
  {
   "cell_type": "code",
   "execution_count": 144,
   "metadata": {},
   "outputs": [],
   "source": [
    "path = \"/home/oriol/Oriol/GH_A/qmmm/2_2nd_frame/1_prep_gromos/radii_test/\"\n",
    "name = \"energy_RNN2.dat\""
   ]
  },
  {
   "cell_type": "code",
   "execution_count": 16,
   "metadata": {},
   "outputs": [],
   "source": [
    "path = \"/home/oriol/Oriol/GH_A/qmmm/2_2nd_frame/2_wfopt/radii_test_b/\"\n",
    "name = \"energy_RNN.dat\""
   ]
  },
  {
   "cell_type": "code",
   "execution_count": 17,
   "metadata": {},
   "outputs": [],
   "source": [
    "lines = 0\n",
    "lines = len(open(path+name).readlines(  ))\n",
    "table = np.zeros((lines,2))"
   ]
  },
  {
   "cell_type": "code",
   "execution_count": 18,
   "metadata": {},
   "outputs": [],
   "source": [
    "file = open(path+name, 'r')\n",
    "m = file.readline()\n",
    "line = 0\n",
    "while m:\n",
    "    radius,energy = m.split(\"\\t\")\n",
    "    table[line,0]=int(radius)\n",
    "    table[line,1]=float(energy[:-1])*627.509474\n",
    "    m = file.readline()\n",
    "    line += 1"
   ]
  },
  {
   "cell_type": "code",
   "execution_count": 19,
   "metadata": {},
   "outputs": [],
   "source": [
    "table_NN = table"
   ]
  },
  {
   "cell_type": "code",
   "execution_count": 32,
   "metadata": {},
   "outputs": [],
   "source": [
    "path = \"/home/oriol/Oriol/GH_A/qmmm/1_test/radii_test/\"\n",
    "name = \"energy_RMIX.dat\""
   ]
  },
  {
   "cell_type": "code",
   "execution_count": 99,
   "metadata": {},
   "outputs": [],
   "source": [
    "path = \"/home/oriol/Oriol/GH_A/qmmm/2_2nd_frame/1_prep_gromos/radii_test/\"\n",
    "name = \"energy_RMIX.dat\""
   ]
  },
  {
   "cell_type": "code",
   "execution_count": 234,
   "metadata": {},
   "outputs": [],
   "source": [
    "path = \"/home/oriol/Oriol/GH_A/qmmm/2_2nd_frame/1_prep_gromos/radii_test_b/\"\n",
    "name = \"energy_RMIX.dat\""
   ]
  },
  {
   "cell_type": "code",
   "execution_count": 22,
   "metadata": {},
   "outputs": [],
   "source": [
    "path = \"/home/oriol/Oriol/GH_A/qmmm/2_2nd_frame/2_wfopt/radii_test_b/\"\n",
    "name = \"energy_RMIX.dat\""
   ]
  },
  {
   "cell_type": "code",
   "execution_count": 23,
   "metadata": {},
   "outputs": [],
   "source": [
    "lines = 0\n",
    "lines = len(open(path+name).readlines(  ))\n",
    "table = np.zeros((lines,2))"
   ]
  },
  {
   "cell_type": "code",
   "execution_count": 24,
   "metadata": {},
   "outputs": [],
   "source": [
    "file = open(path+name, 'r')\n",
    "m = file.readline()\n",
    "line = 0\n",
    "while m:\n",
    "    radius,energy = m.split(\"\\t\")\n",
    "    table[line,0]=int(radius)\n",
    "    table[line,1]=float(energy[:-1])*627.509474\n",
    "    m = file.readline()\n",
    "    line += 1"
   ]
  },
  {
   "cell_type": "code",
   "execution_count": 25,
   "metadata": {},
   "outputs": [],
   "source": [
    "table_MIX = table"
   ]
  },
  {
   "cell_type": "code",
   "execution_count": 26,
   "metadata": {},
   "outputs": [],
   "source": [
    "# 0 = last RESP\n",
    "\n",
    "table_MIX[:,1] = table_MIX[:,1] - table_ESP[-1,1]\n",
    "table_NN[:,1] = table_NN[:,1] - table_ESP[-1,1]\n",
    "table_ESP[:,1] = table_ESP[:,1] - table_ESP[-1,1]"
   ]
  },
  {
   "cell_type": "code",
   "execution_count": 165,
   "metadata": {},
   "outputs": [],
   "source": [
    "# 0 = min(NN)\n",
    "\n",
    "table_ESP[:,1] = table_ESP[:,1] - min(table_NN[:,1])\n",
    "#table_MIX[:,1] = table_MIX[:,1] - min(table_NN[:,1])\n",
    "table_NN[:,1] = table_NN[:,1] - min(table_NN[:,1])"
   ]
  },
  {
   "cell_type": "code",
   "execution_count": 225,
   "metadata": {},
   "outputs": [
    {
     "data": {
      "text/plain": [
       "array([[ 1.80000000e+01, -2.99328440e+05],\n",
       "       [ 2.00000000e+01, -2.99327556e+05],\n",
       "       [ 2.20000000e+01, -2.99327242e+05],\n",
       "       [ 2.40000000e+01, -2.99324092e+05],\n",
       "       [ 2.60000000e+01, -2.99322868e+05],\n",
       "       [ 2.80000000e+01, -2.99321297e+05],\n",
       "       [ 3.00000000e+01, -2.99320129e+05]])"
      ]
     },
     "execution_count": 225,
     "metadata": {},
     "output_type": "execute_result"
    }
   ],
   "source": [
    "table_MIX"
   ]
  },
  {
   "cell_type": "code",
   "execution_count": 49,
   "metadata": {},
   "outputs": [
    {
     "data": {
      "image/png": "[encoded data removed]",
      "text/plain": [
       "<Figure size 720x432 with 1 Axes>"
      ]
     },
     "metadata": {
      "needs_background": "light"
     },
     "output_type": "display_data"
    }
   ],
   "source": [
    "plt.figure(figsize=(10,6))\n",
    "plt.plot(table_ESP[:,0], table_ESP[:,1], color = \"red\", label=\"R_ESP\")\n",
    "plt.plot(table_NN[:,0], table_NN[:,1], color = \"blue\", label=\"R_NN\")\n",
    "plt.plot(table_MIX[:,0], table_MIX[:,1], color = \"green\", label=\"R_MIX\")\n",
    "\n",
    "plt.ylim(-5,2)\n",
    "plt.legend(loc=4,fontsize=16)\n",
    "plt.grid(True)\n",
    "plt.title(\"Radii test\", fontsize=24)\n",
    "plt.xlabel(\"Radius [a.u.]\", fontsize=20)\n",
    "plt.ylabel(\" ΔE [kcal/mol]\", fontsize=20)\n",
    "plt.xticks(np.arange(10,110,10), fontsize=16)\n",
    "plt.yticks(np.arange(-4,2,1), fontsize=16)\n",
    "\n",
    "plt.savefig(\"3_2_radii_test.png\")\n",
    "plt.show()"
   ]
  },
  {
   "cell_type": "code",
   "execution_count": 202,
   "metadata": {},
   "outputs": [
    {
     "name": "stdout",
     "output_type": "stream",
     "text": [
      "20.0 -0.8688872682396322\n",
      "22.0 -2.068672832334414\n",
      "24.0 -0.8854974440182559\n",
      "30.0 -1.4621723755844869\n"
     ]
    }
   ],
   "source": [
    "f = 9\n",
    "l = table_NN[-1,1]\n",
    "print(table_NN[f-1,0],table_NN[f-1,1] -l) \n",
    "print(table_NN[f,0],table_NN[f,1] -l)  \n",
    "print(table_NN[f+1,0],table_NN[f+1,1] -l) \n",
    "print(table_NN[-1,0],table_NN[-1,1])"
   ]
  },
  {
   "cell_type": "code",
   "execution_count": 153,
   "metadata": {},
   "outputs": [
    {
     "data": {
      "image/png": "[encoded data removed]",
      "text/plain": [
       "<Figure size 432x288 with 1 Axes>"
      ]
     },
     "metadata": {
      "needs_background": "light"
     },
     "output_type": "display_data"
    }
   ],
   "source": [
    "table_NN[:,1] = table_NN[:,1] - min(table_NN[:,1])\n",
    "plt.plot(table_NN[:,0], table_NN[:,1], color = \"blue\")\n",
    "plt.ylim(-5,20)\n",
    "# plt.legend()\n",
    "plt.grid(True, )\n",
    "plt.title(\"\")\n",
    "plt.xlabel(\"radius [a.u.]\")\n",
    "plt.ylabel(\"ΔE [kcal/mol]\")\n",
    "#plt.savefig(\".png\")\n",
    "#plt.yticks(np.arange(0,25,1))\n",
    "plt.show()"
   ]
  },
  {
   "cell_type": "code",
   "execution_count": 9,
   "metadata": {},
   "outputs": [
    {
     "name": "stdout",
     "output_type": "stream",
     "text": [
      "25.0 -1.5329303438775241\n",
      "30.0 -1.387040666246321\n",
      "35.0 -1.0115138966357335\n",
      "80.0 -299325.4682351993\n"
     ]
    }
   ],
   "source": [
    "f = 5\n",
    "l = table_ESP[-1,1]\n",
    "print(table_ESP[f-1,0],table_ESP[f-1,1] -l) \n",
    "print(table_ESP[f,0],table_ESP[f,1] -l)  \n",
    "print(table_ESP[f+1,0],table_ESP[f+1,1] -l) \n",
    "print(table_ESP[-1,0],table_ESP[-1,1])"
   ]
  },
  {
   "cell_type": "code",
   "execution_count": 37,
   "metadata": {},
   "outputs": [
    {
     "data": {
      "image/png": "[encoded data removed]",
      "text/plain": [
       "<Figure size 432x288 with 1 Axes>"
      ]
     },
     "metadata": {
      "needs_background": "light"
     },
     "output_type": "display_data"
    }
   ],
   "source": [
    "table_ESP[:,1]=table_ESP[:,1]-min(table_ESP[:,1])\n",
    "plt.plot(table_ESP[:,0], table_ESP[:,1], color = \"blue\")\n",
    "#plt.ylim(10,17)\n",
    "# plt.legend()\n",
    "plt.grid(True, )\n",
    "plt.title(\"\")\n",
    "plt.xlabel(\"radius [a.u.]\")\n",
    "plt.ylabel(\"ΔE [kcal/mol]\")\n",
    "#plt.savefig(\".png\")\n",
    "#plt.yticks(np.arange(0,25,1))\n",
    "plt.show()"
   ]
  },
  {
   "cell_type": "code",
   "execution_count": 19,
   "metadata": {},
   "outputs": [
    {
     "data": {
      "image/png": "[encoded data removed]",
      "text/plain": [
       "<Figure size 432x288 with 1 Axes>"
      ]
     },
     "metadata": {
      "needs_background": "light"
     },
     "output_type": "display_data"
    }
   ],
   "source": [
    "table_ESP[:,1]=table_ESP[:,1]-min(table_ESP[:,1])\n",
    "plt.plot(table_ESP[:,0], table_ESP[:,1], color = \"blue\")\n",
    "#plt.ylim(0,2.5)\n",
    "# plt.legend()\n",
    "plt.grid(True, )\n",
    "plt.title(\"\")\n",
    "plt.xlabel(\"radius [a.u.]\")\n",
    "plt.ylabel(\"ΔE [kcal/mol]\")\n",
    "#plt.savefig(\".png\")\n",
    "#plt.yticks(np.arange(0,25,1))\n",
    "plt.show()"
   ]
  },
  {
   "cell_type": "code",
   "execution_count": 76,
   "metadata": {},
   "outputs": [
    {
     "data": {
      "image/png": "[encoded data removed]",
      "text/plain": [
       "<Figure size 432x288 with 1 Axes>"
      ]
     },
     "metadata": {
      "needs_background": "light"
     },
     "output_type": "display_data"
    }
   ],
   "source": [
    "table_MIX[:,1] = table_MIX[:,1] - min(table_NN[:,1])\n",
    "plt.plot(table_MIX[:,0], table_MIX[:,1], color = \"blue\")\n",
    "#plt.ylim(0,2.5)\n",
    "# plt.legend()\n",
    "plt.grid(True, )\n",
    "plt.title(\"\")\n",
    "plt.xlabel(\"radius [a.u.]\")\n",
    "plt.ylabel(\"ΔE [kcal/mol]\")\n",
    "#plt.savefig(\".png\")\n",
    "#plt.yticks(np.arange(0,25,1))\n",
    "plt.show()"
   ]
  },
  {
   "cell_type": "code",
   "execution_count": 358,
   "metadata": {},
   "outputs": [
    {
     "data": {
      "text/plain": [
       "1.3738504170905799"
      ]
     },
     "execution_count": 358,
     "metadata": {},
     "output_type": "execute_result"
    }
   ],
   "source": [
    "table_ESP[3,1]- table_ESP[-1,1]"
   ]
  },
  {
   "cell_type": "code",
   "execution_count": 185,
   "metadata": {},
   "outputs": [
    {
     "data": {
      "text/plain": [
       "11.573611111111111"
      ]
     },
     "execution_count": 185,
     "metadata": {},
     "output_type": "execute_result"
    }
   ],
   "source": [
    "5*8333/3600"
   ]
  },
  {
   "cell_type": "code",
   "execution_count": 8,
   "metadata": {},
   "outputs": [
    {
     "data": {
      "text/plain": [
       "1.7366255144032923"
      ]
     },
     "execution_count": 8,
     "metadata": {},
     "output_type": "execute_result"
    }
   ],
   "source": [
    "2/3+4/9+8/27+16/81+32/243"
   ]
  },
  {
   "cell_type": "code",
   "execution_count": 278,
   "metadata": {},
   "outputs": [],
   "source": [
    "e = np.zeros(14)\n",
    "e[0] = 0\n",
    "e[1]= -371.46599696 -   (-371.40794014)\n",
    "e[2 ]= -225.12442625 -  (-225.11924881)\n",
    "e[3 ]=   0.00000001 -   (   0.00000001)\n",
    "e[4 ]=  -148.21190647 - (-148.21190647)\n",
    "e[5 ]=    1.87033576 -  (   1.92321514)\n",
    "e[6 ]=   168.71257687 - ( 168.72351903)\n",
    "e[7 ]=  -164.32775132 - (-164.31983934)\n",
    "e[8 ]=   177.52931478 - ( 177.52931478)\n",
    "e[9 ]=    7.92984505 -  (   7.92984505)\n",
    "e[10]= -195.07303484 -  (-195.04457621)\n",
    "e[11]=   23.76731278 -  (  23.73218302)\n",
    "e[12]=  -58.20352979 -  ( -58.21053537)\n",
    "e[13]=  -0.97442804 -   (  -0.97497571)"
   ]
  },
  {
   "cell_type": "code",
   "execution_count": 282,
   "metadata": {},
   "outputs": [
    {
     "name": "stdout",
     "output_type": "stream",
     "text": [
      "0.0\n",
      "-0.05805681999999024\n",
      "-0.005177440000011302\n",
      "0.0\n",
      "0.0\n",
      "-0.05287938000000003\n",
      "-0.010942160000013246\n",
      "-0.007911980000017138\n",
      "0.0\n",
      "0.0\n",
      "-0.028458629999988716\n",
      "0.03512976000000023\n",
      "0.007005580000004841\n",
      "0.0005476700000000001\n"
     ]
    }
   ],
   "source": [
    "for i in e:\n",
    "    print(i)"
   ]
  },
  {
   "cell_type": "code",
   "execution_count": 251,
   "metadata": {},
   "outputs": [
    {
     "data": {
      "text/plain": [
       "86400"
      ]
     },
     "execution_count": 251,
     "metadata": {},
     "output_type": "execute_result"
    }
   ],
   "source": [
    "24*3600"
   ]
  },
  {
   "cell_type": "code",
   "execution_count": 243,
   "metadata": {},
   "outputs": [
    {
     "name": "stdout",
     "output_type": "stream",
     "text": [
      "1007.8281352619999\n"
     ]
    }
   ],
   "source": [
    "#Conversion factor * Timestep * Number of steps\n",
    "print(0.0241888428 * 3 * 13780)\n",
    "print(0.0241888428 * 4 * 10335)\n",
    "print(0.0241888428 * 5 * 8268)"
   ]
  },
  {
   "cell_type": "code",
   "execution_count": 258,
   "metadata": {},
   "outputs": [
    {
     "data": {
      "text/plain": [
       "19.486868686868686"
      ]
     },
     "execution_count": 258,
     "metadata": {},
     "output_type": "execute_result"
    }
   ],
   "source": [
    "13780*(7/4950)"
   ]
  },
  {
   "cell_type": "code",
   "execution_count": null,
   "metadata": {},
   "outputs": [],
   "source": []
  },
  {
   "cell_type": "code",
   "execution_count": null,
   "metadata": {},
   "outputs": [],
   "source": []
  },
  {
   "cell_type": "code",
   "execution_count": null,
   "metadata": {},
   "outputs": [],
   "source": []
  },
  {
   "cell_type": "code",
   "execution_count": null,
   "metadata": {},
   "outputs": [],
   "source": []
  },
  {
   "cell_type": "code",
   "execution_count": 21,
   "metadata": {},
   "outputs": [
    {
     "data": {
      "image/png": "[encoded data removed]",
      "text/plain": [
       "<Figure size 432x288 with 1 Axes>"
      ]
     },
     "metadata": {
      "needs_background": "light"
     },
     "output_type": "display_data"
    }
   ],
   "source": [
    "path = \"/home/oriol/Oriol/GH_A/GH79/CPMD/6_hydrolysis_pseudo/\"\n",
    "name = path+\"energy_RESP.dat\"\n",
    "RESP=np.loadtxt(name)\n",
    "# RESP[:,1]=(RESP[:,1]-min(RESP[:,1]))*627.509474\n",
    "RESP[:,1]=(RESP[:,1]-RESP[-1,1])*627.509474\n",
    "plt.plot(RESP[:,0], RESP[:,1])\n",
    "plt.ylim([-1,3])\n",
    "plt.grid()\n",
    "plt.show()"
   ]
  },
  {
   "cell_type": "code",
   "execution_count": 26,
   "metadata": {},
   "outputs": [
    {
     "data": {
      "image/png": "[encoded data removed]",
      "text/plain": [
       "<Figure size 432x288 with 1 Axes>"
      ]
     },
     "metadata": {
      "needs_background": "light"
     },
     "output_type": "display_data"
    }
   ],
   "source": [
    "path = \"/home/oriol/Oriol/GH_A/GH79/CPMD/6_hydrolysis_pseudo/\"\n",
    "name = path+\"energy_RNN.dat\"\n",
    "RNN=np.loadtxt(name)\n",
    "# RESP[:,1]=(RESP[:,1]-min(RESP[:,1]))*627.509474\n",
    "RNN[:,1]=(RNN[:,1]-RNN[-1,1])*627.509474\n",
    "plt.plot(RNN[:,0], RNN[:,1])\n",
    "plt.ylim([-2,3])\n",
    "plt.grid()\n",
    "plt.show()"
   ]
  },
  {
   "cell_type": "code",
   "execution_count": 29,
   "metadata": {},
   "outputs": [
    {
     "data": {
      "image/png": "[encoded data removed]",
      "text/plain": [
       "<Figure size 432x288 with 1 Axes>"
      ]
     },
     "metadata": {
      "needs_background": "light"
     },
     "output_type": "display_data"
    }
   ],
   "source": [
    "path = \"/home/oriol/Oriol/GH_A/GH79/CPMD/6_hydrolysis_pseudo/\"\n",
    "name = path+\"energy_RMIX.dat\"\n",
    "RMIX=np.loadtxt(name)\n",
    "# RESP[:,1]=(RESP[:,1]-min(RESP[:,1]))*627.509474\n",
    "RMIX[:,1]=(RMIX[:,1]-RMIX[-1,1])*627.509474\n",
    "plt.plot(RMIX[:,0], RMIX[:,1])\n",
    "plt.ylim([-3,3])\n",
    "plt.grid()\n",
    "plt.show()"
   ]
  },
  {
   "cell_type": "code",
   "execution_count": 38,
   "metadata": {},
   "outputs": [
    {
     "data": {
      "image/png": "[encoded data removed]",
      "text/plain": [
       "<Figure size 1152x576 with 1 Axes>"
      ]
     },
     "metadata": {
      "needs_background": "light"
     },
     "output_type": "display_data"
    }
   ],
   "source": [
    "fig1 = plt.figure(figsize=(16,8))\n",
    "path = \"/home/oriol/Oriol/GH_A/GH79/CPMD/6_hydrolysis_pseudo/\"\n",
    "name = path+\"energy_RESP.dat\"\n",
    "RESP=np.loadtxt(name)\n",
    "path = \"/home/oriol/Oriol/GH_A/GH79/CPMD/6_hydrolysis_pseudo/\"\n",
    "name = path+\"energy_RNN.dat\"\n",
    "RNN=np.loadtxt(name)\n",
    "path = \"/home/oriol/Oriol/GH_A/GH79/CPMD/6_hydrolysis_pseudo/\"\n",
    "name = path+\"energy_RMIX.dat\"\n",
    "RMIX=np.loadtxt(name)\n",
    "# RESP[:,1]=(RESP[:,1]-min(RESP[:,1]))*627.509474\n",
    "RNN[:,1]=(RNN[:,1]-RESP[-1,1])*627.509474\n",
    "RMIX[:,1]=(RMIX[:,1]-RESP[-1,1])*627.509474\n",
    "RESP[:,1]=(RESP[:,1]-RESP[-1,1])*627.509474\n",
    "plt.plot(RESP[:,0], RESP[:,1])\n",
    "plt.plot(RNN[:,0], RNN[:,1])\n",
    "plt.plot(RMIX[:,0], RMIX[:,1])\n",
    "plt.ylim([-3,5])\n",
    "plt.xlim\n",
    "plt.grid()\n",
    "plt.show()"
   ]
  }
 ],
 "metadata": {
  "kernelspec": {
   "display_name": "Python 3",
   "language": "python",
   "name": "python3"
  },
  "language_info": {
   "codemirror_mode": {
    "name": "ipython",
    "version": 3
   },
   "file_extension": ".py",
   "mimetype": "text/x-python",
   "name": "python",
   "nbconvert_exporter": "python",
   "pygments_lexer": "ipython3",
   "version": "3.6.8"
  }
 },
 "nbformat": 4,
 "nbformat_minor": 2
}
